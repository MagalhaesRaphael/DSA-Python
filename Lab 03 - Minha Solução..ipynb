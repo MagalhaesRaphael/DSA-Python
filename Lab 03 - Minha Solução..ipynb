{
 "cells": [
  {
   "cell_type": "markdown",
   "id": "2f187d44",
   "metadata": {},
   "source": [
    "#Cap06 - LAB.03"
   ]
  },
  {
   "cell_type": "code",
   "execution_count": 1,
   "id": "b150e9e2",
   "metadata": {},
   "outputs": [],
   "source": [
    "#1- Crie um REGEX para contar quantas vezes o caracter \"a\" aparece em todo o texto da música.\n",
    "#2- Crie um REGEX em Python para contar quantas vezes a palavra tempo aparece na música.\n",
    "#3- Crie um REGEX em Python para extrair as palavras seguidas por exclamação.\n",
    "#4- Crie um REGEX que extrai qualquer palavra cujo antecessor seja a palavra \"esse\" e o sucessor seja a palavra \"amargo\" em um texto.\n",
    "#5- Crie um REGEX que retorne as palavras com acento, mas somente os caracteres na palavra que são anteriores ao caracter com acento.\n"
   ]
  },
  {
   "cell_type": "code",
   "execution_count": 2,
   "id": "55839b99",
   "metadata": {},
   "outputs": [],
   "source": [
    "import re\n",
    "musica = '''\n",
    "Todos os dias quando acordo\n",
    "Não tenho mais\n",
    "O tempo que passou\n",
    "Mas tenho muito tempo\n",
    "Temos todo o tempo do mundo\n",
    "Todos os dias\n",
    "Antes de dormir\n",
    "Lembro e esqueço\n",
    "Como foi o dia\n",
    "Sempre em frente\n",
    "Não temos tempo a perder\n",
    "Nosso suor sagrado\n",
    "É bem mais belo\n",
    "Que esse sangue amargo\n",
    "E tão sério\n",
    "E selvagem! Selvagem!\n",
    "Selvagem!\n",
    "Veja o sol\n",
    "Dessa manhã tão cinza\n",
    "A tempestade que chega\n",
    "É da cor dos teus olhos\n",
    "Castanhos\n",
    "Então me abraça forte\n",
    "E diz mais uma vez\n",
    "Que já estamos\n",
    "Distantes de tudo\n",
    "Temos nosso próprio tempo\n",
    "Temos nosso próprio tempo\n",
    "Temos nosso próprio tempo\n",
    "Não tenho medo do escuro\n",
    "Mas deixe as luzes\n",
    "Acesas agora\n",
    "O que foi escondido\n",
    "É o que se escondeu\n",
    "E o que foi prometido\n",
    "Ninguém prometeu\n",
    "Nem foi tempo perdido\n",
    "Somos tão jovens\n",
    "Tão jovens! Tão jovens!\n",
    "'''\n",
    "print(musica)"
   ]
  },
  {
   "cell_type": "code",
   "execution_count": 3,
   "id": "c0fe73f9",
   "metadata": {},
   "outputs": [
    {
     "name": "stdout",
     "output_type": "stream",
     "text": [
      "42\n"
     ]
    }
   ],
   "source": [
    "#1- Crie um REGEX para contar quantas vezes o caracter \"a\" aparece em todo o texto da música.\n",
    "contagem_a = len(re.findall(r'a', musica, re.IGNORECASE)) \n",
    "'''\n",
    "# re.findall(r'a', musica, re.IGNORECASE) usa regex para encontrar todas as ocorrências da letra 'a',\n",
    "ignorando maiúsculas e minúsculas.\n",
    "# len(...) é usado para contar o número de ocorrências retornadas pela expressão regular.\n",
    "# flag re.IGNORECASE é usada para garantir que tanto 'a' quanto 'A' sejam considerados.\n",
    "'''\n",
    "print(contagem_a)"
   ]
  },
  {
   "cell_type": "code",
   "execution_count": 4,
   "id": "7ae13b6d",
   "metadata": {},
   "outputs": [
    {
     "name": "stdout",
     "output_type": "stream",
     "text": [
      "8\n"
     ]
    }
   ],
   "source": [
    "#2- Crie um REGEX em Python para contar quantas vezes a palavra tempo aparece na música.\n",
    "contagem_tempo = len(re.findall(r'\\btempo\\b', musica, re.IGNORECASE))\n",
    "'''\n",
    "# \\b é um delimitador de palavra que garante que estamos contando a palavra \"tempo\" e não substrings que contenham essa sequência de letras.\n",
    "# re.IGNORECASE é usado para tornar a correspondência insensível a maiúsculas e minúsculas.\n",
    "'''\n",
    "print(contagem_tempo)"
   ]
  },
  {
   "cell_type": "code",
   "execution_count": 5,
   "id": "7faac7fa",
   "metadata": {},
   "outputs": [
    {
     "name": "stdout",
     "output_type": "stream",
     "text": [
      "Todas as palavras na música: ['selvagem!', 'Selvagem!', 'Selvagem!', 'jovens!', 'jovens!'] \n",
      "Com o total de  5  palavras\n"
     ]
    }
   ],
   "source": [
    "#3- Crie um REGEX em Python para extrair as palavras seguidas por exclamação.\n",
    "palavras = re.findall(r'\\w+!', musica)\n",
    "palavras_qtde = len(re.findall(r'\\w+!', musica))\n",
    "\n",
    "'''\n",
    "\\w+ corresponde a uma ou mais letras, dígitos ou underscore (sublinhado).\n",
    "! corresponde ao caractere de exclamação.\n",
    "'''\n",
    "\n",
    "\n",
    "print(\"Todas as palavras na música:\", palavras, \"\\nCom o total de \", palavras_qtde, \" palavras\")"
   ]
  },
  {
   "cell_type": "code",
   "execution_count": 6,
   "id": "e0efc89e",
   "metadata": {},
   "outputs": [
    {
     "name": "stdout",
     "output_type": "stream",
     "text": [
      "Palavras entre 'esse' e 'amargo': sangue\n",
      "Total de palavras: 1\n"
     ]
    }
   ],
   "source": [
    "#4- Crie um REGEX que extrai qualquer palavra cujo antecessor seja a palavra \"esse\" e o sucessor seja a palavra \"amargo\" em um texto.\n",
    "# Regex para extrair palavras entre \"esse\" e \"amargo\"\n",
    "padrao = r'\\besse\\b\\s+(\\w+)\\s+amargo\\b'\n",
    "'''\n",
    "# \\besse\\b corresponde à palavra \"esse\" como uma palavra inteira (usando \\b para delimitadores de palavra).\n",
    "# \\s+ corresponde a um ou mais espaços em branco.\n",
    "# (\\w+) corresponde a uma palavra (uma ou mais letras, dígitos ou underscore) e captura essa palavra como um grupo.\n",
    "# amargo\\b corresponde à palavra \"amargo\" como uma palavra inteira.\n",
    "\n",
    "'''\n",
    "palavras = re.findall(padrao, musica, re.IGNORECASE)\n",
    "# re.IGNORECASE é usado para tornar a correspondência insensível a maiúsculas e minúsculas.\n",
    "\n",
    "print(\"Palavras entre 'esse' e 'amargo':\", palavras[0]) # indice [0] - para mostrar somente a palavra.\n",
    "print(\"Total de palavras:\", len(palavras))\n",
    "# A lista palavras conterá todas as palavras entre \"esse\" e \"amargo\", e o len(palavras) dará a contagem total dessas palavras."
   ]
  },
  {
   "cell_type": "code",
   "execution_count": 7,
   "id": "5531db4d",
   "metadata": {},
   "outputs": [
    {
     "name": "stdout",
     "output_type": "stream",
     "text": [
      "Não -> N\n",
      "Não -> N\n",
      "tão -> t\n",
      "sério -> s\n",
      "manhã -> manh\n",
      "tão -> t\n",
      "Então -> Ent\n",
      "já -> j\n",
      "próprio -> pr\n",
      "próprio -> pr\n",
      "próprio -> pr\n",
      "Não -> N\n",
      "Ninguém -> Ningu\n",
      "tão -> t\n",
      "Tão -> T\n",
      "Tão -> T\n"
     ]
    }
   ],
   "source": [
    "#5- Crie um REGEX que retorne as palavras com acento, mas somente os caracteres na palavra que são anteriores ao caracter com acento.\n",
    "padrao = re.compile(r'\\b(\\w*)([áéíóúâêîôûãõàèìòùäëïöü])(\\w*)\\b', re.IGNORECASE)\n",
    "\n",
    "# Função para processar correspondências\n",
    "def processar(match):\n",
    "    # Verificar se o caractere com acento está na lista de caracteres acentuados\n",
    "    if match.group(2) in 'áéíóúâêîôûãõàèìòùäëïöü':\n",
    "        palavra_com_acento = match.group(0)\n",
    "        caracteres_antes_acento = match.group(1)\n",
    "        print(f\"{palavra_com_acento} -> {caracteres_antes_acento}\")\n",
    "\n",
    "# Iterar sobre as correspondências e aplicar a função de processamento\n",
    "for correspondencia in padrao.finditer(musica):\n",
    "    processar(correspondencia)"
   ]
  },
  {
   "cell_type": "markdown",
   "id": "2bddeebd",
   "metadata": {},
   "source": [
    "Assim como proposto, foram feitas pesquisas para a solução de cada item.\n",
    "Utilizando o chat GPT como fonte de informação e explicação dos códigos, assim como biblioteca para outras dúvidas remanecentes.\n",
    "https://chat.openai.com/ e https://docs.python.org/3.9/library/re.html"
   ]
  },
  {
   "cell_type": "code",
   "execution_count": null,
   "id": "5cff110c",
   "metadata": {},
   "outputs": [],
   "source": []
  }
 ],
 "metadata": {
  "kernelspec": {
   "display_name": "Python 3 (ipykernel)",
   "language": "python",
   "name": "python3"
  },
  "language_info": {
   "codemirror_mode": {
    "name": "ipython",
    "version": 3
   },
   "file_extension": ".py",
   "mimetype": "text/x-python",
   "name": "python",
   "nbconvert_exporter": "python",
   "pygments_lexer": "ipython3",
   "version": "3.9.13"
  }
 },
 "nbformat": 4,
 "nbformat_minor": 5
}
